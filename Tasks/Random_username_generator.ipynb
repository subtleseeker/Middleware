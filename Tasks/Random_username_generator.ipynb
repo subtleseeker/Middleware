{
 "cells": [
  {
   "cell_type": "code",
   "execution_count": 53,
   "metadata": {},
   "outputs": [
    {
     "name": "stdout",
     "output_type": "stream",
     "text": [
      "10\n",
      "5\n"
     ]
    }
   ],
   "source": [
    "N = int(input())\n",
    "M = int(input())"
   ]
  },
  {
   "cell_type": "code",
   "execution_count": 54,
   "metadata": {},
   "outputs": [
    {
     "data": {
      "text/plain": [
       "10"
      ]
     },
     "execution_count": 54,
     "metadata": {},
     "output_type": "execute_result"
    }
   ],
   "source": [
    "N"
   ]
  },
  {
   "cell_type": "code",
   "execution_count": 55,
   "metadata": {},
   "outputs": [],
   "source": [
    "import random  \n",
    "password = []\n",
    "username = []\n",
    "for x in range(N): \n",
    "    s1 = \"\"\n",
    "    s2 = \"\"\n",
    "      \n",
    "    # print 10 random values \n",
    "    # between 1 and 100 \n",
    "    for y in range(M):\n",
    "        s1 = s1 + chr(random.randint(97, 122))\n",
    "        z = random.randint(1,2)\n",
    "        if(z  == 1):\n",
    "            s2 = s2 + chr(random.randint(97,122))\n",
    "        else:\n",
    "             s2 = s2 + str(random.randint(1, 9)) \n",
    "    username.append(s1)\n",
    "    password.append(s2)"
   ]
  },
  {
   "cell_type": "code",
   "execution_count": 56,
   "metadata": {},
   "outputs": [
    {
     "data": {
      "text/plain": [
       "['ect25',\n",
       " 'f2c4d',\n",
       " 'gdzx8',\n",
       " '6yl2g',\n",
       " '73d4f',\n",
       " '6cgn4',\n",
       " 'mb771',\n",
       " 'ij5i7',\n",
       " 'd7fqw',\n",
       " '7g898']"
      ]
     },
     "execution_count": 56,
     "metadata": {},
     "output_type": "execute_result"
    }
   ],
   "source": [
    "password"
   ]
  },
  {
   "cell_type": "code",
   "execution_count": 57,
   "metadata": {},
   "outputs": [
    {
     "data": {
      "text/plain": [
       "['qoxtk',\n",
       " 'jmhdx',\n",
       " 'khelz',\n",
       " 'hathy',\n",
       " 'vdvkm',\n",
       " 'jkicj',\n",
       " 'kkdup',\n",
       " 'fzwlk',\n",
       " 'pxjgj',\n",
       " 'paykm']"
      ]
     },
     "execution_count": 57,
     "metadata": {},
     "output_type": "execute_result"
    }
   ],
   "source": [
    "username"
   ]
  },
  {
   "cell_type": "code",
   "execution_count": null,
   "metadata": {},
   "outputs": [],
   "source": []
  }
 ],
 "metadata": {
  "kernelspec": {
   "display_name": "Python 3",
   "language": "python",
   "name": "python3"
  },
  "language_info": {
   "codemirror_mode": {
    "name": "ipython",
    "version": 3
   },
   "file_extension": ".py",
   "mimetype": "text/x-python",
   "name": "python",
   "nbconvert_exporter": "python",
   "pygments_lexer": "ipython3",
   "version": "3.6.7"
  }
 },
 "nbformat": 4,
 "nbformat_minor": 2
}
